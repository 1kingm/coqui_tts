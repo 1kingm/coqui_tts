{
 "cells": [
  {
   "cell_type": "code",
   "execution_count": null,
   "metadata": {},
   "outputs": [],
   "source": [
    "import wave\n",
    "import librosa\n",
    "import soundfile as sf\n",
    "from pydub import AudioSegment"
   ]
  },
  {
   "cell_type": "code",
   "execution_count": null,
   "metadata": {},
   "outputs": [],
   "source": [
    "windows_path = \"D:/Desktop/coqui_tts/\"\n",
    "root_path = \"/home/pnx/Desktop/paddle/\"\n",
    "path = root_path\n",
    "file_generation = path + \"output/\" + \"2025-03-31-15_52_01.wav\"\n",
    "file_reference = path + \"data/\" + \"2.wav\""
   ]
  },
  {
   "cell_type": "code",
   "execution_count": 7,
   "metadata": {},
   "outputs": [],
   "source": [
    "def get_sampling_rate_wav(file_path):\n",
    "    with wave.open(file_path, 'rb') as wav_file:\n",
    "        # 获取采样率\n",
    "        sampling_rate = wav_file.getframerate()\n",
    "        return sampling_rate\n",
    "\n",
    "\n",
    "def resample_audio(input_path, output_path, target_sr=16000):\n",
    "    # 加载音频文件，sr=None 表示加载时不进行采样率重采样\n",
    "    y, sr = librosa.load(input_path, sr=None)\n",
    "\n",
    "    if sr != target_sr:\n",
    "        y_resampled = librosa.resample(y, orig_sr=sr, target_sr=target_sr)\n",
    "\n",
    "        sf.write(output_path, y_resampled, target_sr)\n",
    "        print(f\"音频 {input_path} 已重采样为 {target_sr}Hz，并保存为 {output_path}\")\n",
    "    else:\n",
    "        # 如果采样率已经是目标采样率，直接保存\n",
    "        sf.write(output_path, y, sr)\n",
    "        print(f\"音频 {input_path} 已是目标采样率 {target_sr}Hz，无需转换\")"
   ]
  },
  {
   "cell_type": "markdown",
   "metadata": {},
   "source": [
    "### 获取采样率数据"
   ]
  },
  {
   "cell_type": "code",
   "execution_count": 11,
   "metadata": {},
   "outputs": [
    {
     "name": "stdout",
     "output_type": "stream",
     "text": [
      "Sampling rate: 16000 Hz\n"
     ]
    }
   ],
   "source": [
    "sampling_rate = get_sampling_rate_wav(file_reference)\n",
    "print(f\"Sampling rate: {sampling_rate} Hz\")"
   ]
  },
  {
   "cell_type": "code",
   "execution_count": 27,
   "metadata": {},
   "outputs": [
    {
     "name": "stdout",
     "output_type": "stream",
     "text": [
      "音频 D:/Desktop/coqui_tts/output/2025-03-31-15_52_01.wav 已重采样为 16000Hz，并保存为 D:/Desktop/coqui_tts/output/resample/2025-03-31-15_52_01.wav\n",
      "音频 D:/Desktop/coqui_tts/data/2.wav 已是目标采样率 16000Hz，无需转换\n"
     ]
    }
   ],
   "source": [
    "sample_generation = file_generation.replace(\"output/\", \"output/resample/\")\n",
    "sample_reference = file_reference.replace(\"data/\", \"output/resample/\")\n",
    "resample_audio(file_generation, sample_generation)\n",
    "resample_audio(file_reference, sample_reference)"
   ]
  },
  {
   "cell_type": "code",
   "execution_count": 26,
   "metadata": {},
   "outputs": [
    {
     "name": "stdout",
     "output_type": "stream",
     "text": [
      "D:/Desktop/coqui_tts/output/resample/2.wav\n"
     ]
    }
   ],
   "source": [
    "print(sample_reference)"
   ]
  }
 ],
 "metadata": {
  "kernelspec": {
   "display_name": "tts",
   "language": "python",
   "name": "python3"
  },
  "language_info": {
   "codemirror_mode": {
    "name": "ipython",
    "version": 3
   },
   "file_extension": ".py",
   "mimetype": "text/x-python",
   "name": "python",
   "nbconvert_exporter": "python",
   "pygments_lexer": "ipython3",
   "version": "3.10.16"
  }
 },
 "nbformat": 4,
 "nbformat_minor": 2
}
