{
 "cells": [
  {
   "cell_type": "code",
   "execution_count": null,
   "metadata": {},
   "outputs": [],
   "source": [
    "import wave\n",
    "import os\n",
    "import librosa\n",
    "import soundfile as sf\n",
    "from pydub import AudioSegment\n",
    "import sndhdr"
   ]
  },
  {
   "cell_type": "code",
   "execution_count": 9,
   "metadata": {},
   "outputs": [],
   "source": [
    "windows_path = \"D:/Desktop/coqui_tts/\"\n",
    "root_path = \"/home/pnx/Desktop/paddle/\"\n",
    "path = windows_path\n",
    "file_generation = path + \"output/\" + \"2025-03-31-15_52_01.wav\"\n",
    "file_reference = path + \"data/\" + \"2.wav\""
   ]
  },
  {
   "cell_type": "code",
   "execution_count": 18,
   "metadata": {},
   "outputs": [],
   "source": [
    "def get_sampling_rate_wav(file_path):\n",
    "    print(f\"Processing file: {file_path}\")\n",
    "    \n",
    "    if file_path.lower().endswith('.wav'):\n",
    "        # 使用 sndhdr 获取 WAV 文件的信息\n",
    "        sndheader = sndhdr.what(file_path)\n",
    "        print(f\"sndhdr output: {sndheader}\")\n",
    "        return sndheader.filetype, sndheader.framerate, sndheader.nchannels\n",
    "    else:\n",
    "        try:\n",
    "            audio = AudioSegment.from_file(file_path)\n",
    "            # 获取采样率和通道数\n",
    "            sample_rate = audio.frame_rate\n",
    "            num_channels = audio.channels\n",
    "            print(f\"Sample rate: {sample_rate}, Channels: {num_channels}\")\n",
    "            \n",
    "            output_path = file_path.replace(os.path.splitext(file_path)[1], \".wav\")\n",
    "            audio.export(output_path, format=\"wav\")\n",
    "            print(f\"Converted to WAV: {output_path}\")\n",
    "            \n",
    "            return 'converted_wav', sample_rate, num_channels\n",
    "        \n",
    "        except Exception as e:\n",
    "            print(f\"Error while processing the file: {e}\")\n",
    "            return None, None, None\n",
    "\n",
    "\n",
    "def resample_audio(input_path, output_path, target_sr=16000):\n",
    "    # 加载音频文件，sr=None 表示加载时不进行采样率重采样\n",
    "    y, sr = librosa.load(input_path, sr=None, mono=False)\n",
    "    num_channels = y.shape[0]\n",
    "\n",
    "    if sr != target_sr:\n",
    "        y_resampled = librosa.resample(y, orig_sr=sr, target_sr=target_sr)\n",
    "\n",
    "        sf.write(output_path, y_resampled, target_sr)\n",
    "        print(f\"音频 {input_path} 已重采样为 {target_sr}Hz，并保存为 {output_path}\")\n",
    "    else:\n",
    "        # 如果采样率已经是目标采样率，直接保存\n",
    "        sf.write(output_path, y, sr)\n",
    "        print(f\"音频 {input_path} 已是目标采样率 {target_sr}Hz，无需转换, save to {output_path}\")"
   ]
  },
  {
   "cell_type": "markdown",
   "metadata": {},
   "source": [
    "### 获取采样率数据"
   ]
  },
  {
   "cell_type": "code",
   "execution_count": 22,
   "metadata": {},
   "outputs": [
    {
     "name": "stdout",
     "output_type": "stream",
     "text": [
      "Processing file: D:/Desktop/coqui_tts/data/2.mp3\n",
      "Sample rate: 48000, Channels: 2\n",
      "Error while processing the file: name 'os' is not defined\n",
      "Sampling rate: None Hz, Channels: None \n"
     ]
    }
   ],
   "source": [
    "filetype, sampling_rate, channels = get_sampling_rate_wav(path+\"data/2.mp3\")\n",
    "print(f\"Sampling rate: {sampling_rate} Hz, Channels: {channels} \")"
   ]
  },
  {
   "cell_type": "code",
   "execution_count": 5,
   "metadata": {},
   "outputs": [
    {
     "name": "stdout",
     "output_type": "stream",
     "text": [
      "SndHeaders(filetype='wav', framerate=22050, nchannels=1, nframes=1144656, sampwidth=16)\n"
     ]
    }
   ],
   "source": [
    "sndheader = sndhdr.what(file_generation)\n",
    "print(sndheader)"
   ]
  },
  {
   "cell_type": "code",
   "execution_count": 14,
   "metadata": {},
   "outputs": [
    {
     "name": "stdout",
     "output_type": "stream",
     "text": [
      "音频 /home/pnx/Desktop/paddle/output/2025-03-31-15_52_01.wav 已重采样为 16000Hz，并保存为 /home/pnx/Desktop/paddle/output/resample/2025-03-31-15_52_01.wav\n",
      "音频 /home/pnx/Desktop/paddle/data/2.wav 已是目标采样率 16000Hz，无需转换\n"
     ]
    }
   ],
   "source": [
    "sample_generation = file_generation.replace(\"output/\", \"output/resample/\")\n",
    "sample_reference = file_reference.replace(\"data/\", \"output/resample/\")\n",
    "resample_audio(file_generation, sample_generation)\n",
    "resample_audio(file_reference, sample_reference)"
   ]
  },
  {
   "cell_type": "code",
   "execution_count": 26,
   "metadata": {},
   "outputs": [
    {
     "name": "stdout",
     "output_type": "stream",
     "text": [
      "D:/Desktop/coqui_tts/output/resample/2.wav\n"
     ]
    }
   ],
   "source": [
    "print(sample_reference)"
   ]
  }
 ],
 "metadata": {
  "kernelspec": {
   "display_name": "tts",
   "language": "python",
   "name": "python3"
  },
  "language_info": {
   "codemirror_mode": {
    "name": "ipython",
    "version": 3
   },
   "file_extension": ".py",
   "mimetype": "text/x-python",
   "name": "python",
   "nbconvert_exporter": "python",
   "pygments_lexer": "ipython3",
   "version": "3.10.16"
  }
 },
 "nbformat": 4,
 "nbformat_minor": 2
}
